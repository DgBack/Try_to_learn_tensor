{
  "nbformat": 4,
  "nbformat_minor": 0,
  "metadata": {
    "colab": {
      "name": "Tensorflow_beginner_core.ipynb",
      "provenance": [],
      "authorship_tag": "ABX9TyMaN+k0Ia5hEy5kDL3/QEH1",
      "include_colab_link": true
    },
    "kernelspec": {
      "name": "python3",
      "display_name": "Python 3"
    },
    "language_info": {
      "name": "python"
    }
  },
  "cells": [
    {
      "cell_type": "markdown",
      "metadata": {
        "id": "view-in-github",
        "colab_type": "text"
      },
      "source": [
        "<a href=\"https://colab.research.google.com/github/DgBack/Try_to_learn_tensor/blob/main/Tensorflow_beginner_core.ipynb\" target=\"_parent\"><img src=\"https://colab.research.google.com/assets/colab-badge.svg\" alt=\"Open In Colab\"/></a>"
      ]
    },
    {
      "cell_type": "markdown",
      "source": [
        "Khởi động nhanh tensorflow 2 cho người mới bắt đầu \n"
      ],
      "metadata": {
        "id": "ydHZsFGKD5yN"
      }
    },
    {
      "cell_type": "markdown",
      "source": [
        "Trong phần giới thiệu nho nhỏ này chúng ta sẽ sử dụng Keras để : \n",
        "\n",
        "-  Tải tập dữ liệu \n",
        "- Xây dựng mô hình học máy để phân loại hình ảnh\n",
        "- Đào tạo mạng nơ-ron này \n",
        "- Đánh giá độ chính xác của mô hình "
      ],
      "metadata": {
        "id": "UzvK4bagErgi"
      }
    },
    {
      "cell_type": "markdown",
      "source": [
        "Bước đầu tiên chúng ta cần phải thiết lập thư viện tensorflow"
      ],
      "metadata": {
        "id": "rhs0pvoBFW9_"
      }
    },
    {
      "cell_type": "code",
      "execution_count": null,
      "metadata": {
        "colab": {
          "base_uri": "https://localhost:8080/"
        },
        "id": "YMsPlNf_C-0t",
        "outputId": "e1d92d62-6010-44d9-f28c-252fe9732ca6"
      },
      "outputs": [
        {
          "output_type": "stream",
          "name": "stdout",
          "text": [
            "2.8.2\n"
          ]
        }
      ],
      "source": [
        "import tensorflow as tf \n",
        "print(tf.__version__)"
      ]
    },
    {
      "cell_type": "markdown",
      "source": [
        "Tiếp theo chúng ta sẽ tải tập dữ liệu khá là nổi tiếng đó là MNIST "
      ],
      "metadata": {
        "id": "Dwtn7jflGXQl"
      }
    },
    {
      "cell_type": "code",
      "source": [
        "# Gọi tên cho tập dữ liệu \n",
        "mnist_dataset = tf.keras.datasets.mnist\n",
        "\n",
        "# Tải bộ dữ liệu đã được chia sẵn thành các bộ dữ liệu \n",
        "(x_train, y_train), (x_test, y_test) = mnist_dataset.load_data()\n",
        "x_train, x_test = x_train / 255.0, x_test / 255.0"
      ],
      "metadata": {
        "colab": {
          "base_uri": "https://localhost:8080/"
        },
        "id": "C6Y21xpRIeK-",
        "outputId": "2cb07305-c205-45a0-870a-f316b861edf8"
      },
      "execution_count": 2,
      "outputs": [
        {
          "output_type": "stream",
          "name": "stdout",
          "text": [
            "Downloading data from https://storage.googleapis.com/tensorflow/tf-keras-datasets/mnist.npz\n",
            "11493376/11490434 [==============================] - 0s 0us/step\n",
            "11501568/11490434 [==============================] - 0s 0us/step\n"
          ]
        }
      ]
    },
    {
      "cell_type": "markdown",
      "source": [
        "Bây giờ chúng ta sẽ xây dựng mạng lưới neural và mô hình học máy "
      ],
      "metadata": {
        "id": "aO8BdbZeJgM6"
      }
    },
    {
      "cell_type": "markdown",
      "source": [
        "Trước hết chúng ta xây dựng mô hình bằng tf.keras.models.Sequential bằng cách chồng các lớp lại "
      ],
      "metadata": {
        "id": "oAFWxWnkJxuZ"
      }
    },
    {
      "cell_type": "code",
      "source": [
        "model = tf.keras.models.Sequential([\n",
        "                                    tf.keras.layers.Flatten(input_shape=(28, 28)),\n",
        "                                    tf.keras.layers.Dense(128, activation= 'relu'),\n",
        "                                    tf.keras.layers.Dropout(0.2),\n",
        "                                    tf.keras.layers.Dense(10)\n",
        "])"
      ],
      "metadata": {
        "id": "8JY-HZgEKVG5"
      },
      "execution_count": 4,
      "outputs": []
    },
    {
      "cell_type": "markdown",
      "source": [
        "Đối với mỗi ví dụ, nô hình trả về một vector của logits hoặc log tỉ lệ cược, một cho mỗi lớp "
      ],
      "metadata": {
        "id": "f7WlXRkZUWCs"
      }
    },
    {
      "cell_type": "code",
      "source": [
        "predictions = model(x_train[:1]).numpy()\n",
        "predictions"
      ],
      "metadata": {
        "colab": {
          "base_uri": "https://localhost:8080/"
        },
        "id": "IoF-U_fnUVsy",
        "outputId": "3326d10f-d4ff-4a4c-deca-4c2303dfe08a"
      },
      "execution_count": 5,
      "outputs": [
        {
          "output_type": "execute_result",
          "data": {
            "text/plain": [
              "array([[-0.22005379, -0.12590344, -0.25618985,  0.49012095, -1.0846087 ,\n",
              "        -0.5472616 ,  0.10259641, -0.54585916, -0.5171585 ,  0.05413417]],\n",
              "      dtype=float32)"
            ]
          },
          "metadata": {},
          "execution_count": 5
        }
      ]
    },
    {
      "cell_type": "markdown",
      "source": [
        "Tiếp đó ta sẽ sử dụng hàm tf.nn.softmax chuyển đổi các bản ghi này thành dạng xác suất cho mỗi lớp \n"
      ],
      "metadata": {
        "id": "Ztcp-jHEU3zA"
      }
    },
    {
      "cell_type": "code",
      "source": [
        "tf.nn.softmax(predictions).numpy()"
      ],
      "metadata": {
        "colab": {
          "base_uri": "https://localhost:8080/"
        },
        "id": "MskA8nPqUmVA",
        "outputId": "16302e51-4759-4ac1-d21f-6483b8746191"
      },
      "execution_count": 6,
      "outputs": [
        {
          "output_type": "execute_result",
          "data": {
            "text/plain": [
              "array([[0.09614544, 0.10563739, 0.09273314, 0.19559316, 0.04050021,\n",
              "        0.0693145 , 0.13275592, 0.06941178, 0.07143281, 0.12647568]],\n",
              "      dtype=float32)"
            ]
          },
          "metadata": {},
          "execution_count": 6
        }
      ]
    },
    {
      "cell_type": "markdown",
      "source": [
        "Định nghĩa một hàm tổn thất để huấn luyện bằng cách sử dụng losses.SparseCategoricalCrossentropy , lấy một vectơ logits và một chỉ số True và trả về một tổn thất vô hướng cho mỗi ví dụ."
      ],
      "metadata": {
        "id": "w_FJr9pyXYUI"
      }
    },
    {
      "cell_type": "code",
      "source": [
        "loss_fn = tf.keras.losses.SparseCategoricalCrossentropy(from_logits=True)"
      ],
      "metadata": {
        "id": "bENwwapcXZnB"
      },
      "execution_count": 7,
      "outputs": []
    },
    {
      "cell_type": "code",
      "source": [
        "loss_fn(y_train[:1], predictions).numpy()"
      ],
      "metadata": {
        "colab": {
          "base_uri": "https://localhost:8080/"
        },
        "id": "AaYCCIteXc9w",
        "outputId": "5a73d1a6-de43-4040-802c-f5c13f90e212"
      },
      "execution_count": 8,
      "outputs": [
        {
          "output_type": "execute_result",
          "data": {
            "text/plain": [
              "2.6691012"
            ]
          },
          "metadata": {},
          "execution_count": 8
        }
      ]
    },
    {
      "cell_type": "code",
      "source": [
        "model.compile(optimizer='adam',\n",
        "              loss=loss_fn,\n",
        "              metrics=['accuracy'])"
      ],
      "metadata": {
        "id": "kfnWY8wGXjUe"
      },
      "execution_count": 9,
      "outputs": []
    },
    {
      "cell_type": "code",
      "source": [
        "model.fit(x_train, y_train, epochs=5)"
      ],
      "metadata": {
        "colab": {
          "base_uri": "https://localhost:8080/"
        },
        "id": "TjCX2XbzXnm7",
        "outputId": "a676abc9-4400-4924-e3a0-8d14bfb90685"
      },
      "execution_count": 10,
      "outputs": [
        {
          "output_type": "stream",
          "name": "stdout",
          "text": [
            "Epoch 1/5\n",
            "1875/1875 [==============================] - 5s 2ms/step - loss: 0.2946 - accuracy: 0.9132\n",
            "Epoch 2/5\n",
            "1875/1875 [==============================] - 4s 2ms/step - loss: 0.1435 - accuracy: 0.9573\n",
            "Epoch 3/5\n",
            "1875/1875 [==============================] - 4s 2ms/step - loss: 0.1071 - accuracy: 0.9670\n",
            "Epoch 4/5\n",
            "1875/1875 [==============================] - 5s 3ms/step - loss: 0.0860 - accuracy: 0.9737\n",
            "Epoch 5/5\n",
            "1875/1875 [==============================] - 5s 3ms/step - loss: 0.0734 - accuracy: 0.9774\n"
          ]
        },
        {
          "output_type": "execute_result",
          "data": {
            "text/plain": [
              "<keras.callbacks.History at 0x7f620d554f50>"
            ]
          },
          "metadata": {},
          "execution_count": 10
        }
      ]
    },
    {
      "cell_type": "code",
      "source": [
        "model.evaluate(x_test,  y_test, verbose=2)"
      ],
      "metadata": {
        "colab": {
          "base_uri": "https://localhost:8080/"
        },
        "id": "ruXXXoeVXsbd",
        "outputId": "a00ffb21-53d8-4019-ac1e-92e686f81233"
      },
      "execution_count": 11,
      "outputs": [
        {
          "output_type": "stream",
          "name": "stdout",
          "text": [
            "313/313 - 1s - loss: 0.0743 - accuracy: 0.9778 - 519ms/epoch - 2ms/step\n"
          ]
        },
        {
          "output_type": "execute_result",
          "data": {
            "text/plain": [
              "[0.07429751008749008, 0.9778000116348267]"
            ]
          },
          "metadata": {},
          "execution_count": 11
        }
      ]
    }
  ]
}